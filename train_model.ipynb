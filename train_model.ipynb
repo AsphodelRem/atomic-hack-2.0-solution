{
 "cells": [
  {
   "cell_type": "code",
   "execution_count": null,
   "id": "5d7ca187-3798-4266-a966-b64dec2becac",
   "metadata": {},
   "outputs": [],
   "source": [
    "import os\n",
    "import lightning as L\n",
    "from torch.utils.data import DataLoader\n",
    "from lightning.pytorch.callbacks import RichProgressBar\n",
    "\n",
    "import models\n",
    "import config_tools\n",
    "import dataset"
   ]
  },
  {
   "cell_type": "code",
   "execution_count": null,
   "id": "d896b6a6-7a0e-4271-ae54-5d75bc8c8cdf",
   "metadata": {},
   "outputs": [],
   "source": [
    "config = config_tools.load_config('configs/config.toml')"
   ]
  },
  {
   "cell_type": "code",
   "execution_count": null,
   "id": "8f7e1d93-679a-4443-a382-fc90a23e9794",
   "metadata": {},
   "outputs": [],
   "source": [
    "if os.path.exists(config['metadata_parameters']['path_to_train_metadata']) is False:\n",
    "    dataset.AtomicDataset.create_train_test_split(config)"
   ]
  },
  {
   "cell_type": "code",
   "execution_count": null,
   "id": "f83368b7-7665-47d7-b3cc-a5c8c5a2d5fb",
   "metadata": {},
   "outputs": [],
   "source": [
    "model = models.AtomicModelWrapper(config)"
   ]
  },
  {
   "cell_type": "code",
   "execution_count": null,
   "id": "39f852d8-f1bb-48f9-8115-773be7ce8182",
   "metadata": {},
   "outputs": [],
   "source": [
    "feature_extractor = model.get_processor()\n",
    "\n",
    "def collate_fn(batch):\n",
    "    pixel_values = [item[0] for item in batch]\n",
    "    encoding = feature_extractor.pad(pixel_values, return_tensors=\"pt\")\n",
    "    labels = [item[1] for item in batch]\n",
    "    batch = {\n",
    "        'pixel_values': encoding['pixel_values'], \n",
    "        'pixel_mask': encoding['pixel_mask'], \n",
    "        'labels': labels\n",
    "    }\n",
    "    return batch"
   ]
  },
  {
   "cell_type": "code",
   "execution_count": null,
   "id": "67cebcb5-5ddb-4e79-aed8-1cc4edd5c01f",
   "metadata": {},
   "outputs": [],
   "source": [
    "train_dataset = dataset.AtomicDataset(config, feature_extractor, train=True)\n",
    "test_dataset = dataset.AtomicDataset(config, feature_extractor)\n",
    "\n",
    "train_dataloader = DataLoader(\n",
    "    train_dataset, \n",
    "    shuffle=True, \n",
    "    batch_size=config['model_parameters']['batch_size'], \n",
    "    num_workers=3, \n",
    "    pin_memory=True,\n",
    "    collate_fn=train_dataset.collate_fn\n",
    ")\n",
    "\n",
    "test_dataloader = DataLoader(\n",
    "    test_dataset, \n",
    "    shuffle=False, \n",
    "    batch_size=config['model_parameters']['batch_size'], \n",
    "    num_workers=3, \n",
    "    pin_memory=True,\n",
    "    collate_fn=test_dataset.collate_fn\n",
    ")\n",
    "\n",
    "a, b = test_dataset[0]"
   ]
  },
  {
   "cell_type": "code",
   "execution_count": null,
   "id": "5183aaba-42c6-4acc-80ca-60a809f0c290",
   "metadata": {},
   "outputs": [],
   "source": [
    "trainer = L.Trainer(\n",
    "    max_epochs=config['model_parameters']['epochs'], \n",
    "    gradient_clip_val=config['model_parameters']['grad_clipping'],\n",
    "    callbacks=[RichProgressBar()]\n",
    ")\n",
    "\n",
    "trainer.fit(model, train_dataloader, test_dataloader)"
   ]
  }
 ],
 "metadata": {
  "kernelspec": {
   "display_name": "hack",
   "language": "python",
   "name": "hack"
  },
  "language_info": {
   "codemirror_mode": {
    "name": "ipython",
    "version": 3
   },
   "file_extension": ".py",
   "mimetype": "text/x-python",
   "name": "python",
   "nbconvert_exporter": "python",
   "pygments_lexer": "ipython3",
   "version": "3.10.12"
  }
 },
 "nbformat": 4,
 "nbformat_minor": 5
}
