{
 "cells": [
  {
   "cell_type": "code",
   "execution_count": null,
   "id": "2c7a4c41-5f06-41f3-ad39-bc3787bdcfd5",
   "metadata": {},
   "outputs": [],
   "source": [
    "import os\n",
    "import lightning as L\n",
    "from torch.utils.data import DataLoader\n",
    "from lightning.pytorch.callbacks import RichProgressBar\n",
    "\n",
    "import config_tools\n",
    "from models import AtomicFasterRCNN\n",
    "from dataset import AtomicDataset"
   ]
  },
  {
   "cell_type": "code",
   "execution_count": 2,
   "id": "453f3806-3388-46f7-97dc-8687e91d6eee",
   "metadata": {},
   "outputs": [],
   "source": [
    "config = config_tools.load_config('configs/faster_rcnn_config.toml')"
   ]
  },
  {
   "cell_type": "code",
   "execution_count": 3,
   "id": "4ee84a57-dbf8-41c2-885e-200d0bc8b32d",
   "metadata": {},
   "outputs": [],
   "source": [
    "if os.path.exists(config['metadata_parameters']['path_to_train_metadata']) is False:\n",
    "    AtomicDataset.create_train_test_split(config)"
   ]
  },
  {
   "cell_type": "code",
   "execution_count": 4,
   "id": "ecebb173-b308-4e1a-8c73-5d9b71f72b71",
   "metadata": {},
   "outputs": [],
   "source": [
    "train_dataset = AtomicDataset(config, is_train=True)\n",
    "test_dataset = AtomicDataset(config)\n",
    "\n",
    "train_dataloader = DataLoader(\n",
    "    train_dataset, \n",
    "    shuffle=True, \n",
    "    batch_size=config['model_parameters']['batch_size'], \n",
    "    num_workers=3, \n",
    "    pin_memory=True,\n",
    "    collate_fn=AtomicDataset.collate_fn\n",
    ")\n",
    "\n",
    "test_dataloader = DataLoader(\n",
    "    test_dataset, \n",
    "    shuffle=False, \n",
    "    batch_size=config['model_parameters']['batch_size'], \n",
    "    num_workers=3, \n",
    "    pin_memory=True,\n",
    "    collate_fn=AtomicDataset.collate_fn\n",
    ")"
   ]
  },
  {
   "cell_type": "code",
   "execution_count": null,
   "id": "15aa229a-af47-44a0-83b1-d786af02a686",
   "metadata": {},
   "outputs": [],
   "source": [
    "model = AtomicFasterRCNN(config)"
   ]
  },
  {
   "cell_type": "code",
   "execution_count": null,
   "id": "63349fc9-d215-4b2e-89cb-383d96e124f5",
   "metadata": {},
   "outputs": [],
   "source": [
    "trainer = L.Trainer(\n",
    "    max_epochs=config['model_parameters']['epochs'], \n",
    "    gradient_clip_val=config['model_parameters']['grad_clipping'],\n",
    "    callbacks=[RichProgressBar()],\n",
    "    accumulate_grad_batches=64\n",
    ")\n",
    "\n",
    "trainer.fit(model, train_dataloader)"
   ]
  },
  {
   "cell_type": "code",
   "execution_count": null,
   "id": "59843582-92dd-4304-b81d-7ea21add05d6",
   "metadata": {},
   "outputs": [],
   "source": []
  }
 ],
 "metadata": {
  "kernelspec": {
   "display_name": "Python 3",
   "language": "python",
   "name": "python3"
  },
  "language_info": {
   "codemirror_mode": {
    "name": "ipython",
    "version": 3
   },
   "file_extension": ".py",
   "mimetype": "text/x-python",
   "name": "python",
   "nbconvert_exporter": "python",
   "pygments_lexer": "ipython3",
   "version": "3.11.5"
  }
 },
 "nbformat": 4,
 "nbformat_minor": 5
}
