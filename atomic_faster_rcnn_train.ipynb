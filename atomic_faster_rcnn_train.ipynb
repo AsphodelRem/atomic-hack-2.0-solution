{
 "cells": [
  {
   "cell_type": "code",
   "execution_count": 1,
   "id": "2c7a4c41-5f06-41f3-ad39-bc3787bdcfd5",
   "metadata": {},
   "outputs": [],
   "source": [
    "import os\n",
    "import lightning as L\n",
    "from torch.utils.data import DataLoader\n",
    "from lightning.pytorch.callbacks import RichProgressBar\n",
    "\n",
    "import models\n",
    "import config_tools\n",
    "import dataset"
   ]
  },
  {
   "cell_type": "code",
   "execution_count": 2,
   "id": "453f3806-3388-46f7-97dc-8687e91d6eee",
   "metadata": {},
   "outputs": [],
   "source": [
    "config = config_tools.load_config('configs/faster_rcnn_config.toml')"
   ]
  },
  {
   "cell_type": "code",
   "execution_count": 3,
   "id": "4ee84a57-dbf8-41c2-885e-200d0bc8b32d",
   "metadata": {},
   "outputs": [],
   "source": [
    "if os.path.exists(config['metadata_parameters']['path_to_train_metadata']) is False:\n",
    "    dataset.AtomicDatasetV2.create_train_test_split(config)"
   ]
  },
  {
   "cell_type": "code",
   "execution_count": 4,
   "id": "ecebb173-b308-4e1a-8c73-5d9b71f72b71",
   "metadata": {},
   "outputs": [],
   "source": [
    "train_dataset = dataset.AtomicDatasetV2('/workspace/code/atomic-hack-2.0-solution/metadata/train.csv', config['metadata_parameters']['path_to_data'], config)\n",
    "test_dataset = dataset.AtomicDatasetV2('/workspace/code/atomic-hack-2.0-solution/metadata/test.csv', config['metadata_parameters']['path_to_data'], config)\n",
    "\n",
    "def collate_fn(batch):\n",
    "    return tuple(zip(*batch))\n",
    "\n",
    "train_dataloader = DataLoader(\n",
    "    train_dataset, \n",
    "    shuffle=True, \n",
    "    batch_size=config['model_parameters']['batch_size'], \n",
    "    num_workers=3, \n",
    "    pin_memory=True,\n",
    "    collate_fn=collate_fn\n",
    ")\n",
    "\n",
    "test_dataloader = DataLoader(\n",
    "    test_dataset, \n",
    "    shuffle=False, \n",
    "    batch_size=config['model_parameters']['batch_size'], \n",
    "    num_workers=3, \n",
    "    pin_memory=True,\n",
    "    collate_fn=collate_fn\n",
    ")"
   ]
  },
  {
   "cell_type": "code",
   "execution_count": 5,
   "id": "15aa229a-af47-44a0-83b1-d786af02a686",
   "metadata": {},
   "outputs": [
    {
     "name": "stderr",
     "output_type": "stream",
     "text": [
      "/workspace/python_envs/hack/lib/python3.10/site-packages/torchvision/models/_utils.py:208: UserWarning: The parameter 'pretrained' is deprecated since 0.13 and may be removed in the future, please use 'weights' instead.\n",
      "  warnings.warn(\n",
      "/workspace/python_envs/hack/lib/python3.10/site-packages/torchvision/models/_utils.py:223: UserWarning: Arguments other than a weight enum or `None` for 'weights' are deprecated since 0.13 and may be removed in the future. The current behavior is equivalent to passing `weights=FasterRCNN_ResNet50_FPN_Weights.COCO_V1`. You can also use `weights=FasterRCNN_ResNet50_FPN_Weights.DEFAULT` to get the most up-to-date weights.\n",
      "  warnings.warn(msg)\n"
     ]
    }
   ],
   "source": [
    "model = models.AtomicFasterRCNN(config, 5)"
   ]
  },
  {
   "cell_type": "code",
   "execution_count": null,
   "id": "63349fc9-d215-4b2e-89cb-383d96e124f5",
   "metadata": {},
   "outputs": [
    {
     "data": {
      "text/html": [
       "<pre style=\"white-space:pre;overflow-x:auto;line-height:normal;font-family:Menlo,'DejaVu Sans Mono',consolas,'Courier New',monospace\"><span style=\"color: #c0c0c0; text-decoration-color: #c0c0c0\">Epoch 0/29</span> <span style=\"color: #6206e0; text-decoration-color: #6206e0\">━╸</span><span style=\"color: #3a3a3a; text-decoration-color: #3a3a3a\">━━━━━━━━━━━━━━━━━━━━━━━━━━━━━━━━━━━━</span> <span style=\"color: #c0c0c0; text-decoration-color: #c0c0c0\">27/600</span> <span style=\"color: #8a8a8a; text-decoration-color: #8a8a8a\">0:00:32 • 0:10:58</span> <span style=\"color: #b2b2b2; text-decoration-color: #b2b2b2\">0.87it/s</span> <span style=\"color: #c0c0c0; text-decoration-color: #c0c0c0\">v_num: 83.000 train_loss: 0.079</span>\n",
       "</pre>\n"
      ],
      "text/plain": [
       "\u001b[37mEpoch 0/29\u001b[0m \u001b[38;2;98;6;224m━\u001b[0m\u001b[38;2;98;6;224m╸\u001b[0m\u001b[38;5;237m━━━━━━━━━━━━━━━━━━━━━━━━━━━━━━━━━━━━\u001b[0m \u001b[37m27/600\u001b[0m \u001b[38;5;245m0:00:32 • 0:10:58\u001b[0m \u001b[38;5;249m0.87it/s\u001b[0m \u001b[37mv_num: 83.000 train_loss: 0.079\u001b[0m\n"
      ]
     },
     "metadata": {},
     "output_type": "display_data"
    }
   ],
   "source": [
    "trainer = L.Trainer(\n",
    "    max_epochs=config['model_parameters']['epochs'], \n",
    "    gradient_clip_val=config['model_parameters']['grad_clipping'],\n",
    "    callbacks=[RichProgressBar()],\n",
    "    accumulate_grad_batches=64\n",
    ")\n",
    "\n",
    "trainer.fit(model, train_dataloader)"
   ]
  },
  {
   "cell_type": "code",
   "execution_count": null,
   "id": "59843582-92dd-4304-b81d-7ea21add05d6",
   "metadata": {},
   "outputs": [],
   "source": []
  }
 ],
 "metadata": {
  "kernelspec": {
   "display_name": "hack",
   "language": "python",
   "name": "hack"
  },
  "language_info": {
   "codemirror_mode": {
    "name": "ipython",
    "version": 3
   },
   "file_extension": ".py",
   "mimetype": "text/x-python",
   "name": "python",
   "nbconvert_exporter": "python",
   "pygments_lexer": "ipython3",
   "version": "3.10.12"
  }
 },
 "nbformat": 4,
 "nbformat_minor": 5
}
